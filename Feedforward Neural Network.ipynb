{
 "cells": [
  {
   "cell_type": "code",
   "execution_count": 69,
   "metadata": {},
   "outputs": [],
   "source": [
    "import tensorflow as tf\n",
    "from tensorflow.examples.tutorials.mnist import input_data\n",
    "from tensorflow.python.ops import rnn, rnn_cell"
   ]
  },
  {
   "cell_type": "code",
   "execution_count": 12,
   "metadata": {},
   "outputs": [
    {
     "name": "stdout",
     "output_type": "stream",
     "text": [
      "WARNING:tensorflow:From <ipython-input-12-d651cc53d7d8>:1: read_data_sets (from tensorflow.contrib.learn.python.learn.datasets.mnist) is deprecated and will be removed in a future version.\n",
      "Instructions for updating:\n",
      "Please use alternatives such as official/mnist/dataset.py from tensorflow/models.\n",
      "WARNING:tensorflow:From /Users/Sunny/anaconda3/lib/python3.6/site-packages/tensorflow/contrib/learn/python/learn/datasets/mnist.py:260: maybe_download (from tensorflow.contrib.learn.python.learn.datasets.base) is deprecated and will be removed in a future version.\n",
      "Instructions for updating:\n",
      "Please write your own downloading logic.\n",
      "WARNING:tensorflow:From /Users/Sunny/anaconda3/lib/python3.6/site-packages/tensorflow/contrib/learn/python/learn/datasets/base.py:252: _internal_retry.<locals>.wrap.<locals>.wrapped_fn (from tensorflow.contrib.learn.python.learn.datasets.base) is deprecated and will be removed in a future version.\n",
      "Instructions for updating:\n",
      "Please use urllib or similar directly.\n",
      "Successfully downloaded train-images-idx3-ubyte.gz 9912422 bytes.\n",
      "WARNING:tensorflow:From /Users/Sunny/anaconda3/lib/python3.6/site-packages/tensorflow/contrib/learn/python/learn/datasets/mnist.py:262: extract_images (from tensorflow.contrib.learn.python.learn.datasets.mnist) is deprecated and will be removed in a future version.\n",
      "Instructions for updating:\n",
      "Please use tf.data to implement this functionality.\n",
      "Extracting /tmp/data/train-images-idx3-ubyte.gz\n",
      "Successfully downloaded train-labels-idx1-ubyte.gz 28881 bytes.\n",
      "WARNING:tensorflow:From /Users/Sunny/anaconda3/lib/python3.6/site-packages/tensorflow/contrib/learn/python/learn/datasets/mnist.py:267: extract_labels (from tensorflow.contrib.learn.python.learn.datasets.mnist) is deprecated and will be removed in a future version.\n",
      "Instructions for updating:\n",
      "Please use tf.data to implement this functionality.\n",
      "Extracting /tmp/data/train-labels-idx1-ubyte.gz\n",
      "WARNING:tensorflow:From /Users/Sunny/anaconda3/lib/python3.6/site-packages/tensorflow/contrib/learn/python/learn/datasets/mnist.py:110: dense_to_one_hot (from tensorflow.contrib.learn.python.learn.datasets.mnist) is deprecated and will be removed in a future version.\n",
      "Instructions for updating:\n",
      "Please use tf.one_hot on tensors.\n",
      "Successfully downloaded t10k-images-idx3-ubyte.gz 1648877 bytes.\n",
      "Extracting /tmp/data/t10k-images-idx3-ubyte.gz\n",
      "Successfully downloaded t10k-labels-idx1-ubyte.gz 4542 bytes.\n",
      "Extracting /tmp/data/t10k-labels-idx1-ubyte.gz\n",
      "WARNING:tensorflow:From /Users/Sunny/anaconda3/lib/python3.6/site-packages/tensorflow/contrib/learn/python/learn/datasets/mnist.py:290: DataSet.__init__ (from tensorflow.contrib.learn.python.learn.datasets.mnist) is deprecated and will be removed in a future version.\n",
      "Instructions for updating:\n",
      "Please use alternatives such as official/mnist/dataset.py from tensorflow/models.\n"
     ]
    }
   ],
   "source": [
    "mnist = input_data.read_data_sets(\"/tmp/data/\", one_hot=True)\n",
    "# Load the MNIST digit data set. \n",
    "# one_hot creates a softmax for the target vector "
   ]
  },
  {
   "cell_type": "code",
   "execution_count": 104,
   "metadata": {},
   "outputs": [],
   "source": [
    "n_nodes_hl1 = 550 # Hidden Layer 1\n",
    "n_nodes_hl2 = 550 # Hidden Layer 2\n",
    "n_nodes_hl3 = 500 # Hidden Layer 3\n",
    "\n",
    "n_classes = 10 # 10 Discrete Classes\n",
    "batch_size = 100 # Batch size of 10 examples"
   ]
  },
  {
   "cell_type": "code",
   "execution_count": 105,
   "metadata": {},
   "outputs": [],
   "source": [
    "X = tf.placeholder('float', [None, 784]) # Setting the input size to 784 (28x28 Pixels)\n",
    "y = tf.placeholder('float') # Target Vector"
   ]
  },
  {
   "cell_type": "code",
   "execution_count": 106,
   "metadata": {},
   "outputs": [],
   "source": [
    "def neural_network_model(data):\n",
    "    # 1 + 3 + 1 Artificial Neural Network Architecture\n",
    "    hidden_1_layer = {'weights': tf.Variable(tf.random_normal([784, n_nodes_hl1])), \n",
    "                      'biases': tf.Variable(tf.random_normal([n_nodes_hl1]))}\n",
    "    hidden_2_layer = {'weights': tf.Variable(tf.random_normal([n_nodes_hl1, n_nodes_hl2])), \n",
    "                      'biases': tf.Variable(tf.random_normal([n_nodes_hl2]))}\n",
    "    hidden_3_layer = {'weights': tf.Variable(tf.random_normal([n_nodes_hl2, n_nodes_hl3])), \n",
    "                      'biases': tf.Variable(tf.random_normal([n_nodes_hl3]))}\n",
    "    output_layer = {'weights': tf.Variable(tf.random_normal([n_nodes_hl3, n_classes])), \n",
    "                    'biases': tf.Variable(tf.random_normal([n_classes]))}\n",
    "    \n",
    "    # Using a Relu Activation Function as follows\n",
    "    \n",
    "    l1 = tf.add(tf.matmul(data, hidden_1_layer['weights']), hidden_1_layer['biases'])\n",
    "    l1 = tf.nn.relu(l1)\n",
    "    l2 = tf.add(tf.matmul(l1, hidden_2_layer['weights']), hidden_2_layer['biases'])\n",
    "    l2 = tf.nn.relu(l2)\n",
    "    l3 = tf.add(tf.matmul(l2, hidden_3_layer['weights']), hidden_3_layer['biases'])\n",
    "    l3 = tf.nn.relu(l3)\n",
    "    \n",
    "    output = tf.matmul(l3, output_layer['weights'])\n",
    "    \n",
    "    return output"
   ]
  },
  {
   "cell_type": "code",
   "execution_count": 107,
   "metadata": {},
   "outputs": [],
   "source": [
    "def train_model(X):\n",
    "    prediction = neural_network_model(X)\n",
    "    cost = tf.reduce_mean(tf.nn.softmax_cross_entropy_with_logits(logits=prediction, labels=y))\n",
    "    optimizer = tf.train.AdamOptimizer().minimize(cost) # Using an Adam Optimizer instead of the vanialla gradient descent to factor in momentum\n",
    "    hm_epochs = 50\n",
    "    \n",
    "    with tf.Session() as sess:\n",
    "        sess.run(tf.initialize_all_variables())\n",
    "        \n",
    "        for epoch in range(hm_epochs): # Loop running for the number of epochs\n",
    "            epoch_loss = 0\n",
    "            for _ in range(int(mnist.train.num_examples/batch_size)): # Running the loop m/batch_size times. \n",
    "                epoch_x, epoch_y = mnist.train.next_batch(batch_size)\n",
    "                _, c = sess.run([optimizer, cost], feed_dict = {X: epoch_x, y: epoch_y})\n",
    "                epoch_loss += c\n",
    "            print(\"Epoch\", epoch, \" completed out of \", hm_epochs, \"Loss: \",epoch_loss)\n",
    "        \n",
    "        \n",
    "        \n",
    "        correct = tf.equal(tf.argmax(prediction, 1), tf.argmax(y, 1))\n",
    "        \n",
    "        accuracy = tf.reduce_mean(tf.cast(correct, 'float')) # Mean Squared error\n",
    "        print(\"Accuracy: \", accuracy.eval({X:mnist.test.images, y:mnist.test.labels}))"
   ]
  },
  {
   "cell_type": "code",
   "execution_count": 108,
   "metadata": {},
   "outputs": [
    {
     "name": "stdout",
     "output_type": "stream",
     "text": [
      "Epoch, 0  completed out of  50 Loss:  1858612.4839324951\n",
      "Epoch, 1  completed out of  50 Loss:  428728.25308036804\n",
      "Epoch, 2  completed out of  50 Loss:  222627.11369347572\n",
      "Epoch, 3  completed out of  50 Loss:  132349.81490120292\n",
      "Epoch, 4  completed out of  50 Loss:  77676.8506925106\n",
      "Epoch, 5  completed out of  50 Loss:  47894.57688848137\n",
      "Epoch, 6  completed out of  50 Loss:  33326.901397153735\n",
      "Epoch, 7  completed out of  50 Loss:  27110.34391016885\n",
      "Epoch, 8  completed out of  50 Loss:  25964.226008738064\n",
      "Epoch, 9  completed out of  50 Loss:  21680.186580166745\n",
      "Epoch, 10  completed out of  50 Loss:  20098.070898114718\n",
      "Epoch, 11  completed out of  50 Loss:  17772.14736790955\n",
      "Epoch, 12  completed out of  50 Loss:  16448.583191514015\n",
      "Epoch, 13  completed out of  50 Loss:  16327.055438780226\n",
      "Epoch, 14  completed out of  50 Loss:  15439.074441925113\n",
      "Epoch, 15  completed out of  50 Loss:  16602.852795496583\n",
      "Epoch, 16  completed out of  50 Loss:  11897.250726878643\n",
      "Epoch, 17  completed out of  50 Loss:  11573.30303773284\n",
      "Epoch, 18  completed out of  50 Loss:  10165.666348132403\n",
      "Epoch, 19  completed out of  50 Loss:  8918.002221416227\n",
      "Epoch, 20  completed out of  50 Loss:  11620.072907269001\n",
      "Epoch, 21  completed out of  50 Loss:  11769.979428112041\n",
      "Epoch, 22  completed out of  50 Loss:  10001.06581582129\n",
      "Epoch, 23  completed out of  50 Loss:  7130.659359022144\n",
      "Epoch, 24  completed out of  50 Loss:  8976.282325636595\n",
      "Epoch, 25  completed out of  50 Loss:  9881.413418132812\n",
      "Epoch, 26  completed out of  50 Loss:  6713.382259521401\n",
      "Epoch, 27  completed out of  50 Loss:  9100.097504834532\n",
      "Epoch, 28  completed out of  50 Loss:  6716.006869823199\n",
      "Epoch, 29  completed out of  50 Loss:  9108.32836575819\n",
      "Epoch, 30  completed out of  50 Loss:  9095.703804820776\n",
      "Epoch, 31  completed out of  50 Loss:  5402.099467515945\n",
      "Epoch, 32  completed out of  50 Loss:  4729.267950887226\n",
      "Epoch, 33  completed out of  50 Loss:  9125.283566653728\n",
      "Epoch, 34  completed out of  50 Loss:  5123.830523788929\n",
      "Epoch, 35  completed out of  50 Loss:  7201.68641936779\n",
      "Epoch, 36  completed out of  50 Loss:  7248.314836084843\n",
      "Epoch, 37  completed out of  50 Loss:  6739.099989593029\n",
      "Epoch, 38  completed out of  50 Loss:  7045.570167046033\n",
      "Epoch, 39  completed out of  50 Loss:  4368.444490962249\n",
      "Epoch, 40  completed out of  50 Loss:  4273.633311357349\n",
      "Epoch, 41  completed out of  50 Loss:  7938.487464040518\n",
      "Epoch, 42  completed out of  50 Loss:  5353.504220828494\n",
      "Epoch, 43  completed out of  50 Loss:  4281.9946688139435\n",
      "Epoch, 44  completed out of  50 Loss:  3807.1069808006287\n",
      "Epoch, 45  completed out of  50 Loss:  4100.097741163372\n",
      "Epoch, 46  completed out of  50 Loss:  4646.594438445572\n",
      "Epoch, 47  completed out of  50 Loss:  4221.011235213912\n",
      "Epoch, 48  completed out of  50 Loss:  5868.087793111801\n",
      "Epoch, 49  completed out of  50 Loss:  4506.121627488135\n",
      "Accuracy:  0.9707\n"
     ]
    }
   ],
   "source": [
    "train_model(X) # Hopefully gets us 96~97% Accuracy "
   ]
  },
  {
   "cell_type": "code",
   "execution_count": null,
   "metadata": {},
   "outputs": [],
   "source": []
  },
  {
   "cell_type": "code",
   "execution_count": null,
   "metadata": {},
   "outputs": [],
   "source": []
  }
 ],
 "metadata": {
  "kernelspec": {
   "display_name": "Python 3",
   "language": "python",
   "name": "python3"
  },
  "language_info": {
   "codemirror_mode": {
    "name": "ipython",
    "version": 3
   },
   "file_extension": ".py",
   "mimetype": "text/x-python",
   "name": "python",
   "nbconvert_exporter": "python",
   "pygments_lexer": "ipython3",
   "version": "3.6.5"
  }
 },
 "nbformat": 4,
 "nbformat_minor": 2
}
